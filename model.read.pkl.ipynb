{
 "cells": [
  {
   "cell_type": "code",
   "execution_count": 35,
   "id": "5fa79766",
   "metadata": {},
   "outputs": [],
   "source": [
    "import pickle"
   ]
  },
  {
   "cell_type": "code",
   "execution_count": 28,
   "id": "51ee54bb",
   "metadata": {},
   "outputs": [],
   "source": [
    "with open(\"logistic_clf.pickle\", \"rb\") as f:\n",
    "    model=pickle.load(f)\n",
    "    "
   ]
  },
  {
   "cell_type": "code",
   "execution_count": 37,
   "id": "34e8e238",
   "metadata": {},
   "outputs": [],
   "source": [
    "\n",
    "SepalLengthCm= 6\n",
    "SepalWidthCm=4.5\n",
    "PetalLengthCm= 3.5\n",
    "PetalWidthCm=2.9"
   ]
  },
  {
   "cell_type": "code",
   "execution_count": 36,
   "id": "569aeea4",
   "metadata": {},
   "outputs": [],
   "source": [
    "with open(\"logistic_clf.pkl\", \"rb\") as f:\n",
    "    model=pickle.load(f)"
   ]
  },
  {
   "cell_type": "code",
   "execution_count": 39,
   "id": "7524f0c6",
   "metadata": {},
   "outputs": [
    {
     "name": "stderr",
     "output_type": "stream",
     "text": [
      "C:\\ProgramData\\anaconda3\\lib\\site-packages\\sklearn\\base.py:420: UserWarning: X does not have valid feature names, but LogisticRegression was fitted with feature names\n",
      "  warnings.warn(\n"
     ]
    },
    {
     "data": {
      "text/plain": [
       "'Iris-virginica'"
      ]
     },
     "execution_count": 39,
     "metadata": {},
     "output_type": "execute_result"
    }
   ],
   "source": [
    "model.predict([[SepalLengthCm, SepalWidthCm, PetalLengthCm, PetalWidthCm]])[0]"
   ]
  },
  {
   "cell_type": "code",
   "execution_count": null,
   "id": "42bab26b",
   "metadata": {},
   "outputs": [],
   "source": []
  }
 ],
 "metadata": {
  "kernelspec": {
   "display_name": "Python 3 (ipykernel)",
   "language": "python",
   "name": "python3"
  },
  "language_info": {
   "codemirror_mode": {
    "name": "ipython",
    "version": 3
   },
   "file_extension": ".py",
   "mimetype": "text/x-python",
   "name": "python",
   "nbconvert_exporter": "python",
   "pygments_lexer": "ipython3",
   "version": "3.10.9"
  }
 },
 "nbformat": 4,
 "nbformat_minor": 5
}
